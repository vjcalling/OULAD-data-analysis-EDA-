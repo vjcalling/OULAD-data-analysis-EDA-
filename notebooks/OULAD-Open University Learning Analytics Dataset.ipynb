{
 "cells": [
  {
   "cell_type": "markdown",
   "metadata": {},
   "source": [
    "## OULAD: Open University Learning Analytics Dataset"
   ]
  },
  {
   "cell_type": "markdown",
   "metadata": {},
   "source": [
    "A dataset containing demographical information about students, their courses attended and final results each of their course."
   ]
  },
  {
   "cell_type": "markdown",
   "metadata": {},
   "source": [
    "### Agenda"
   ]
  },
  {
   "cell_type": "markdown",
   "metadata": {},
   "source": [
    "a. More about dataset<br>\n",
    "b. Schema involved<br>\n",
    "c. EDA exercise on OULAD dataset<br>\n",
    "d. Folder structuring<br>\n",
    "e. Conclusion<br>"
   ]
  },
  {
   "cell_type": "markdown",
   "metadata": {},
   "source": [
    "### a. More about dataset"
   ]
  },
  {
   "cell_type": "markdown",
   "metadata": {},
   "source": [
    "This page introduces the anonymised Open University Learning Analytics Dataset (OULAD). It contains data about courses, students and their interactions with Virtual Learning Environment (VLE) for seven selected courses (called modules). Presentations of courses start in February and October - they are marked by “B” and “J” respectively. The dataset consists of tables connected using unique identifiers. All tables are stored in the csv format.\n",
    "\n",
    "Kuzilek J., Hlosta M., Zdrahal Z. Open University Learning Analytics dataset Sci. Data 4:170171 doi: 10.1038/sdata.2017.171 (2017)."
   ]
  },
  {
   "cell_type": "markdown",
   "metadata": {},
   "source": [
    "### b. Schema Involved"
   ]
  },
  {
   "cell_type": "markdown",
   "metadata": {},
   "source": [
    "<img src=\"../static/imgs/model.png\">"
   ]
  },
  {
   "cell_type": "markdown",
   "metadata": {},
   "source": [
    "A data frame with 32593 rows and 12 variables:\n",
    "\n",
    "code_module\n",
    "Name of course, for which student registered\n",
    "\n",
    "code_presentation\n",
    "Name of semester, for which student registered\n",
    "\n",
    "id_student\n",
    "Unique integer identifiing each student\n",
    "\n",
    "gender\n",
    "Students gender\n",
    "\n",
    "region\n",
    "UK region, in which student lives\n",
    "\n",
    "highest_education\n",
    "Highest education student achieved before taking course\n",
    "\n",
    "imd_band\n",
    "Index of Multiple Deprivation (see https://www.gov.uk/government/statistics/english-indices-of-deprivation-2015) percentile, students with imd_band lower than 20 comes from the most deprived regions\n",
    "\n",
    "age_band\n",
    "Age band of student\n",
    "\n",
    "num_of_prev_attempts\n",
    "Number of student previous attempts on the selected course\n",
    "\n",
    "studied_credits\n",
    "Total credits student is studiing at the Open University during period of the course\n",
    "\n",
    "disability\n",
    "Student claims disability of any type, logical\n",
    "\n",
    "final_result\n",
    "Student final result in the course\n",
    "\n",
    "Region values\n",
    "East Anglian Region\n",
    "\n",
    "Scotland\n",
    "\n",
    "North Western Region\n",
    "\n",
    "South East Region\n",
    "\n",
    "West Midlands Region\n",
    "\n",
    "Wales\n",
    "\n",
    "North Region\n",
    "\n",
    "South Region\n",
    "\n",
    "Ireland\n",
    "\n",
    "South West Region\n",
    "\n",
    "East Midlands Region\n",
    "\n",
    "Yorkshire Region\n",
    "\n",
    "London Region\n",
    "\n",
    "See https://en.wikipedia.org/wiki/Regions_of_England for explanation.\n",
    "\n",
    "Highest education values\n",
    "HE Qualification - awarded after one year full-time study at the university or higher education institution\n",
    "\n",
    "A Level or Equivalent - secondary school leaving qualification\n",
    "\n",
    "Lower Than A Level - did not completed secondary school\n",
    "\n",
    "Post Graduate Qualification - equal to Master degree more or less\n",
    "\n",
    "No Formal quals - no previous formal education\n",
    "\n",
    "Final result values\n",
    "Pass - passed the course\n",
    "\n",
    "Withdrawn - whithdrawn the course before offical end\n",
    "\n",
    "Fail - failed the course after taking final exam\n",
    "\n",
    "Distinction - passed course with outstanding results\n",
    "\n",
    "Source\n",
    "https://analyse.kmi.open.ac.uk/open_dataset"
   ]
  },
  {
   "cell_type": "markdown",
   "metadata": {},
   "source": [
    "### c. EDA exercise on OULAD dataset"
   ]
  },
  {
   "cell_type": "code",
   "execution_count": 3,
   "metadata": {},
   "outputs": [],
   "source": [
    "#Data loading/transformation\n",
    "import numpy as np\n",
    "import pandas as pd"
   ]
  },
  {
   "cell_type": "code",
   "execution_count": 4,
   "metadata": {},
   "outputs": [],
   "source": [
    "#visualization\n",
    "import matplotlib.pyplot as plt\n",
    "%matplotlib inline\n",
    "import seaborn as sns"
   ]
  },
  {
   "cell_type": "code",
   "execution_count": 9,
   "metadata": {},
   "outputs": [],
   "source": [
    "#function to display basic info for a given dataframe\n",
    "def show_basic_info(df):\n",
    "    print(\"========================================================================================================\")\n",
    "    print(\"HEAD:\")\n",
    "    print(df.head(3))\n",
    "    print(\"--------------------------------------------------------------------------------------------------------\")\n",
    "    print(\"SHAPE:\")\n",
    "    print(df.shape)\n",
    "    print(\"--------------------------------------------------------------------------------------------------------\")\n",
    "    print(\"INFO:\")\n",
    "    print(df.info())\n",
    "    print(\"--------------------------------------------------------------------------------------------------------\")\n",
    "    print(\"DESCRIBE:\")\n",
    "    print(df.describe())\n",
    "    print(\"--------------------------------------------------------------------------------------------------------\")\n",
    "    print(\"========================================================================================================\")\n",
    "\n",
    "    "
   ]
  },
  {
   "cell_type": "code",
   "execution_count": 34,
   "metadata": {},
   "outputs": [
    {
     "name": "stdout",
     "output_type": "stream",
     "text": [
      "========================================================================================================\n",
      "HEAD:\n",
      "  code_module code_presentation  id_assessment assessment_type   date  weight\n",
      "0         AAA             2013J           1752             TMA   19.0    10.0\n",
      "1         AAA             2013J           1753             TMA   54.0    20.0\n",
      "2         AAA             2013J           1754             TMA  117.0    20.0\n",
      "--------------------------------------------------------------------------------------------------------\n",
      "SHAPE:\n",
      "(206, 6)\n",
      "--------------------------------------------------------------------------------------------------------\n",
      "INFO:\n",
      "<class 'pandas.core.frame.DataFrame'>\n",
      "RangeIndex: 206 entries, 0 to 205\n",
      "Data columns (total 6 columns):\n",
      "code_module          206 non-null object\n",
      "code_presentation    206 non-null object\n",
      "id_assessment        206 non-null int64\n",
      "assessment_type      206 non-null object\n",
      "date                 195 non-null float64\n",
      "weight               206 non-null float64\n",
      "dtypes: float64(2), int64(1), object(3)\n",
      "memory usage: 9.7+ KB\n",
      "None\n",
      "--------------------------------------------------------------------------------------------------------\n",
      "DESCRIBE:\n",
      "       id_assessment        date      weight\n",
      "count     206.000000  195.000000  206.000000\n",
      "mean    26473.975728  145.005128   20.873786\n",
      "std     10098.625521   76.001119   30.384224\n",
      "min      1752.000000   12.000000    0.000000\n",
      "25%     15023.250000   71.000000    0.000000\n",
      "50%     25364.500000  152.000000   12.500000\n",
      "75%     34891.750000  222.000000   24.250000\n",
      "max     40088.000000  261.000000  100.000000\n",
      "--------------------------------------------------------------------------------------------------------\n",
      "========================================================================================================\n"
     ]
    }
   ],
   "source": [
    "#assessments_df = pd.read_csv('../data/raw/assessments.csv')\n",
    "assessments_df = pd.read_csv('https://raw.githubusercontent.com/vjcalling/OULAD-data-analysis-EDA-/master/data/raw/assessments.csv')\n",
    "show_basic_info(assessments_df)"
   ]
  },
  {
   "cell_type": "code",
   "execution_count": 35,
   "metadata": {},
   "outputs": [
    {
     "name": "stdout",
     "output_type": "stream",
     "text": [
      "========================================================================================================\n",
      "HEAD:\n",
      "  code_module code_presentation  module_presentation_length\n",
      "0         AAA             2013J                         268\n",
      "1         AAA             2014J                         269\n",
      "2         BBB             2013J                         268\n",
      "--------------------------------------------------------------------------------------------------------\n",
      "SHAPE:\n",
      "(22, 3)\n",
      "--------------------------------------------------------------------------------------------------------\n",
      "INFO:\n",
      "<class 'pandas.core.frame.DataFrame'>\n",
      "RangeIndex: 22 entries, 0 to 21\n",
      "Data columns (total 3 columns):\n",
      "code_module                   22 non-null object\n",
      "code_presentation             22 non-null object\n",
      "module_presentation_length    22 non-null int64\n",
      "dtypes: int64(1), object(2)\n",
      "memory usage: 608.0+ bytes\n",
      "None\n",
      "--------------------------------------------------------------------------------------------------------\n",
      "DESCRIBE:\n",
      "       module_presentation_length\n",
      "count                   22.000000\n",
      "mean                   255.545455\n",
      "std                     13.654677\n",
      "min                    234.000000\n",
      "25%                    241.000000\n",
      "50%                    261.500000\n",
      "75%                    268.000000\n",
      "max                    269.000000\n",
      "--------------------------------------------------------------------------------------------------------\n",
      "========================================================================================================\n"
     ]
    }
   ],
   "source": [
    "#courses_df = pd.read_csv('../data/raw/courses.csv')\n",
    "courses_df = pd.read_csv('https://raw.githubusercontent.com/vjcalling/OULAD-data-analysis-EDA-/master/data/raw/courses.csv')\n",
    "show_basic_info(courses_df)"
   ]
  },
  {
   "cell_type": "code",
   "execution_count": 36,
   "metadata": {},
   "outputs": [
    {
     "name": "stdout",
     "output_type": "stream",
     "text": [
      "========================================================================================================\n",
      "HEAD:\n",
      "   id_assessment  id_student  date_submitted  is_banked  score\n",
      "0           1752       11391              18          0   78.0\n",
      "1           1752       28400              22          0   70.0\n",
      "2           1752       31604              17          0   72.0\n",
      "--------------------------------------------------------------------------------------------------------\n",
      "SHAPE:\n",
      "(173912, 5)\n",
      "--------------------------------------------------------------------------------------------------------\n",
      "INFO:\n",
      "<class 'pandas.core.frame.DataFrame'>\n",
      "RangeIndex: 173912 entries, 0 to 173911\n",
      "Data columns (total 5 columns):\n",
      "id_assessment     173912 non-null int64\n",
      "id_student        173912 non-null int64\n",
      "date_submitted    173912 non-null int64\n",
      "is_banked         173912 non-null int64\n",
      "score             173739 non-null float64\n",
      "dtypes: float64(1), int64(4)\n",
      "memory usage: 6.6 MB\n",
      "None\n",
      "--------------------------------------------------------------------------------------------------------\n",
      "DESCRIBE:\n",
      "       id_assessment    id_student  date_submitted      is_banked  \\\n",
      "count  173912.000000  1.739120e+05   173912.000000  173912.000000   \n",
      "mean    26553.803556  7.051507e+05      116.032942       0.010977   \n",
      "std      8829.784254  5.523952e+05       71.484148       0.104194   \n",
      "min      1752.000000  6.516000e+03      -11.000000       0.000000   \n",
      "25%     15022.000000  5.044290e+05       51.000000       0.000000   \n",
      "50%     25359.000000  5.852080e+05      116.000000       0.000000   \n",
      "75%     34883.000000  6.344980e+05      173.000000       0.000000   \n",
      "max     37443.000000  2.698588e+06      608.000000       1.000000   \n",
      "\n",
      "               score  \n",
      "count  173739.000000  \n",
      "mean       75.799573  \n",
      "std        18.798107  \n",
      "min         0.000000  \n",
      "25%        65.000000  \n",
      "50%        80.000000  \n",
      "75%        90.000000  \n",
      "max       100.000000  \n",
      "--------------------------------------------------------------------------------------------------------\n",
      "========================================================================================================\n"
     ]
    }
   ],
   "source": [
    "#studentAssessment_df = pd.read_csv('../data/raw/studentAssessment.csv')\n",
    "studentAssessment_df = pd.read_csv('https://raw.githubusercontent.com/vjcalling/OULAD-data-analysis-EDA-/master/data/raw/studentAssessment.csv')\n",
    "show_basic_info(studentAssessment_df)"
   ]
  },
  {
   "cell_type": "code",
   "execution_count": 37,
   "metadata": {},
   "outputs": [
    {
     "name": "stdout",
     "output_type": "stream",
     "text": [
      "========================================================================================================\n",
      "HEAD:\n",
      "  code_module code_presentation  id_student gender                region  \\\n",
      "0         AAA             2013J       11391      M   East Anglian Region   \n",
      "1         AAA             2013J       28400      F              Scotland   \n",
      "2         AAA             2013J       30268      F  North Western Region   \n",
      "\n",
      "       highest_education imd_band age_band  num_of_prev_attempts  \\\n",
      "0       HE Qualification  90-100%     55<=                     0   \n",
      "1       HE Qualification   20-30%    35-55                     0   \n",
      "2  A Level or Equivalent   30-40%    35-55                     0   \n",
      "\n",
      "   studied_credits disability final_result  \n",
      "0              240          N         Pass  \n",
      "1               60          N         Pass  \n",
      "2               60          Y    Withdrawn  \n",
      "--------------------------------------------------------------------------------------------------------\n",
      "SHAPE:\n",
      "(32593, 12)\n",
      "--------------------------------------------------------------------------------------------------------\n",
      "INFO:\n",
      "<class 'pandas.core.frame.DataFrame'>\n",
      "RangeIndex: 32593 entries, 0 to 32592\n",
      "Data columns (total 12 columns):\n",
      "code_module             32593 non-null object\n",
      "code_presentation       32593 non-null object\n",
      "id_student              32593 non-null int64\n",
      "gender                  32593 non-null object\n",
      "region                  32593 non-null object\n",
      "highest_education       32593 non-null object\n",
      "imd_band                31482 non-null object\n",
      "age_band                32593 non-null object\n",
      "num_of_prev_attempts    32593 non-null int64\n",
      "studied_credits         32593 non-null int64\n",
      "disability              32593 non-null object\n",
      "final_result            32593 non-null object\n",
      "dtypes: int64(3), object(9)\n",
      "memory usage: 3.0+ MB\n",
      "None\n",
      "--------------------------------------------------------------------------------------------------------\n",
      "DESCRIBE:\n",
      "         id_student  num_of_prev_attempts  studied_credits\n",
      "count  3.259300e+04          32593.000000     32593.000000\n",
      "mean   7.066877e+05              0.163225        79.758691\n",
      "std    5.491673e+05              0.479758        41.071900\n",
      "min    3.733000e+03              0.000000        30.000000\n",
      "25%    5.085730e+05              0.000000        60.000000\n",
      "50%    5.903100e+05              0.000000        60.000000\n",
      "75%    6.444530e+05              0.000000       120.000000\n",
      "max    2.716795e+06              6.000000       655.000000\n",
      "--------------------------------------------------------------------------------------------------------\n",
      "========================================================================================================\n"
     ]
    }
   ],
   "source": [
    "#studentInfo_df = pd.read_csv('../data/raw/studentInfo.csv')\n",
    "studentInfo_df = pd.read_csv('https://raw.githubusercontent.com/vjcalling/OULAD-data-analysis-EDA-/master/data/raw/studentInfo.csv')\n",
    "show_basic_info(studentInfo_df)"
   ]
  },
  {
   "cell_type": "code",
   "execution_count": 38,
   "metadata": {},
   "outputs": [
    {
     "name": "stdout",
     "output_type": "stream",
     "text": [
      "========================================================================================================\n",
      "HEAD:\n",
      "  code_module code_presentation  id_student  date_registration  \\\n",
      "0         AAA             2013J       11391             -159.0   \n",
      "1         AAA             2013J       28400              -53.0   \n",
      "2         AAA             2013J       30268              -92.0   \n",
      "\n",
      "   date_unregistration  \n",
      "0                  NaN  \n",
      "1                  NaN  \n",
      "2                 12.0  \n",
      "--------------------------------------------------------------------------------------------------------\n",
      "SHAPE:\n",
      "(32593, 5)\n",
      "--------------------------------------------------------------------------------------------------------\n",
      "INFO:\n",
      "<class 'pandas.core.frame.DataFrame'>\n",
      "RangeIndex: 32593 entries, 0 to 32592\n",
      "Data columns (total 5 columns):\n",
      "code_module            32593 non-null object\n",
      "code_presentation      32593 non-null object\n",
      "id_student             32593 non-null int64\n",
      "date_registration      32548 non-null float64\n",
      "date_unregistration    10072 non-null float64\n",
      "dtypes: float64(2), int64(1), object(2)\n",
      "memory usage: 1.2+ MB\n",
      "None\n",
      "--------------------------------------------------------------------------------------------------------\n",
      "DESCRIBE:\n",
      "         id_student  date_registration  date_unregistration\n",
      "count  3.259300e+04       32548.000000         10072.000000\n",
      "mean   7.066877e+05         -69.411300            49.757645\n",
      "std    5.491673e+05          49.260522            82.460890\n",
      "min    3.733000e+03        -322.000000          -365.000000\n",
      "25%    5.085730e+05        -100.000000            -2.000000\n",
      "50%    5.903100e+05         -57.000000            27.000000\n",
      "75%    6.444530e+05         -29.000000           109.000000\n",
      "max    2.716795e+06         167.000000           444.000000\n",
      "--------------------------------------------------------------------------------------------------------\n",
      "========================================================================================================\n"
     ]
    }
   ],
   "source": [
    "#studentRegistration_df = pd.read_csv('../data/raw/studentRegistration.csv')\n",
    "studentRegistration_df = pd.read_csv('https://raw.githubusercontent.com/vjcalling/OULAD-data-analysis-EDA-/master/data/raw/studentRegistration.csv')\n",
    "show_basic_info(studentRegistration_df)"
   ]
  },
  {
   "cell_type": "code",
   "execution_count": 39,
   "metadata": {},
   "outputs": [
    {
     "name": "stdout",
     "output_type": "stream",
     "text": [
      "========================================================================================================\n",
      "HEAD:\n",
      "   id_site code_module code_presentation activity_type  week_from  week_to\n",
      "0   546943         AAA             2013J      resource        NaN      NaN\n",
      "1   546712         AAA             2013J     oucontent        NaN      NaN\n",
      "2   546998         AAA             2013J      resource        NaN      NaN\n",
      "--------------------------------------------------------------------------------------------------------\n",
      "SHAPE:\n",
      "(6364, 6)\n",
      "--------------------------------------------------------------------------------------------------------\n",
      "INFO:\n",
      "<class 'pandas.core.frame.DataFrame'>\n",
      "RangeIndex: 6364 entries, 0 to 6363\n",
      "Data columns (total 6 columns):\n",
      "id_site              6364 non-null int64\n",
      "code_module          6364 non-null object\n",
      "code_presentation    6364 non-null object\n",
      "activity_type        6364 non-null object\n",
      "week_from            1121 non-null float64\n",
      "week_to              1121 non-null float64\n",
      "dtypes: float64(2), int64(1), object(3)\n",
      "memory usage: 298.4+ KB\n",
      "None\n",
      "--------------------------------------------------------------------------------------------------------\n",
      "DESCRIBE:\n",
      "            id_site    week_from      week_to\n",
      "count  6.364000e+03  1121.000000  1121.000000\n",
      "mean   7.260991e+05    15.204282    15.214987\n",
      "std    1.283151e+05     8.792865     8.779806\n",
      "min    5.267210e+05     0.000000     0.000000\n",
      "25%    6.615928e+05     8.000000     8.000000\n",
      "50%    7.300965e+05    15.000000    15.000000\n",
      "75%    8.140162e+05    22.000000    22.000000\n",
      "max    1.077905e+06    29.000000    29.000000\n",
      "--------------------------------------------------------------------------------------------------------\n",
      "========================================================================================================\n"
     ]
    }
   ],
   "source": [
    "#vle_df = pd.read_csv('../data/raw/vle.csv')\n",
    "vle_df = pd.read_csv('https://raw.githubusercontent.com/vjcalling/OULAD-data-analysis-EDA-/master/data/raw/vle.csv')\n",
    "show_basic_info(vle_df)"
   ]
  },
  {
   "cell_type": "code",
   "execution_count": 40,
   "metadata": {},
   "outputs": [
    {
     "data": {
      "image/png": "[encoded data removed]",
      "text/plain": [
       "<Figure size 432x288 with 1 Axes>"
      ]
     },
     "metadata": {},
     "output_type": "display_data"
    }
   ],
   "source": [
    "#Checking gender distribution\n",
    "sns.countplot(studentInfo_df.gender);    #this shows that courses data is almost equally distributed on gender"
   ]
  },
  {
   "cell_type": "code",
   "execution_count": 22,
   "metadata": {},
   "outputs": [
    {
     "data": {
      "image/png": "[encoded data removed]",
      "text/plain": [
       "<Figure size 432x288 with 1 Axes>"
      ]
     },
     "metadata": {},
     "output_type": "display_data"
    }
   ],
   "source": [
    "#Now let's try the same on age\n",
    "studentInfo_df[['id_student', 'age_band']].groupby(by='age_band').count().plot.bar();    #this shows majority of students fall in age band of 0-35"
   ]
  },
  {
   "cell_type": "code",
   "execution_count": 24,
   "metadata": {},
   "outputs": [
    {
     "data": {
      "image/png": "[encoded data removed]",
      "text/plain": [
       "<Figure size 432x288 with 1 Axes>"
      ]
     },
     "metadata": {},
     "output_type": "display_data"
    }
   ],
   "source": [
    "#Now let's try the same on region\n",
    "studentInfo_df[['id_student', 'region']].groupby(by='region').count().plot.bar();"
   ]
  },
  {
   "cell_type": "code",
   "execution_count": 25,
   "metadata": {},
   "outputs": [],
   "source": [
    "# What if we want to do a multi dimensional visualization?\n",
    "# Pandas provide this using crosstab\n",
    "# crosstab: Compute a simple cross-tabulation of two (or more) factors. By default computes a frequency table of the factors \n",
    "# unless an array of values and an aggregation function are passed."
   ]
  },
  {
   "cell_type": "code",
   "execution_count": 27,
   "metadata": {},
   "outputs": [
    {
     "data": {
      "image/png": "[encoded data removed]",
      "text/plain": [
       "<Figure size 432x288 with 1 Axes>"
      ]
     },
     "metadata": {},
     "output_type": "display_data"
    }
   ],
   "source": [
    "pd.crosstab(studentInfo_df.region, studentInfo_df.age_band).plot.barh(stacked = True);"
   ]
  },
  {
   "cell_type": "code",
   "execution_count": 28,
   "metadata": {},
   "outputs": [],
   "source": [
    "# How to visualize continous variables, ouliers?\n",
    "# Python provides us boxplot for this.\n",
    "# boxplot:  The box plot (a.k.a. box and whisker diagram) is a standardized way of displaying the \n",
    "# distribution of data based on the five number summary: \n",
    "# minimum, first quartile, median, third quartile, and maximum."
   ]
  },
  {
   "cell_type": "code",
   "execution_count": null,
   "metadata": {},
   "outputs": [],
   "source": []
  }
 ],
 "metadata": {
  "kernelspec": {
   "display_name": "Python 3",
   "language": "python",
   "name": "python3"
  },
  "language_info": {
   "codemirror_mode": {
    "name": "ipython",
    "version": 3
   },
   "file_extension": ".py",
   "mimetype": "text/x-python",
   "name": "python",
   "nbconvert_exporter": "python",
   "pygments_lexer": "ipython3",
   "version": "3.6.5"
  }
 },
 "nbformat": 4,
 "nbformat_minor": 2
}
